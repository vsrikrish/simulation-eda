{
  "cells": [
    {
      "cell_type": "markdown",
      "metadata": {},
      "source": [
        "# Homework 2: Probability Models\n",
        "\n",
        "BEE 4850/5850\n",
        "\n",
        "**Name**:\n",
        "\n",
        "**ID**:\n",
        "\n",
        "> **Due Date**\n",
        ">\n",
        "> Friday, 2/21/24, 9:00pm\n",
        "\n",
        "## Overview"
      ],
      "id": "e824f05e-737f-48ba-8b95-9ace8c7bb6e6"
    },
    {
      "cell_type": "markdown",
      "metadata": {},
      "source": [
        "### Instructions\n",
        "\n",
        "The goal of this homework assignment is to practice developing and\n",
        "working with probability models for data.\n",
        "\n",
        "-   Problem 1 asks you to fit a sea-level rise model using normal\n",
        "    residuals and to assess the validity of that assumption.\n",
        "-   Problem 2 asks you to model the time series of hourly\n",
        "    weather-related variability at a tide gauge using an autoregressive\n",
        "    model.\n",
        "-   Problem 3 asks you to use Poisson regression to predict salamander\n",
        "    counts based on environmental data.\n",
        "-   Problem 4 (only required for students in BEE 5850) asks you to look\n",
        "    at the impact of the gender of hurricane names on deaths[1].\n",
        "\n",
        "[1] Yes, seriously. Ish. Trust me, I know."
      ],
      "id": "ff7da677-6c06-4bc6-94e4-96534c9babc6"
    },
    {
      "cell_type": "markdown",
      "metadata": {},
      "source": [
        "### Load Environment\n",
        "\n",
        "The following code loads the environment and makes sure all needed\n",
        "packages are installed. This should be at the start of most Julia\n",
        "scripts."
      ],
      "id": "44d2b2a1-25d6-4b63-9951-eb22b3ebaee3"
    },
    {
      "cell_type": "code",
      "execution_count": 1,
      "metadata": {},
      "outputs": [],
      "source": [
        "import Pkg\n",
        "Pkg.activate(@__DIR__)\n",
        "Pkg.instantiate()"
      ],
      "id": "2"
    },
    {
      "cell_type": "markdown",
      "metadata": {},
      "source": [
        "The following packages are included in the environment (to help you find\n",
        "other similar packages in other languages). The code below loads these\n",
        "packages for use in the subsequent notebook (the desired functionality\n",
        "for each package is commented next to the package)."
      ],
      "id": "bc3d1848-4e83-4657-8cf4-91ad79c1c94b"
    },
    {
      "cell_type": "code",
      "execution_count": 1,
      "metadata": {},
      "outputs": [],
      "source": [
        "using Random # random number generation and seed-setting\n",
        "using DataFrames # tabular data structure\n",
        "using CSV # reads/writes .csv files\n",
        "using Distributions # interface to work with probability distributions\n",
        "using Plots # plotting library\n",
        "using StatsBase # statistical quantities like mean, median, etc\n",
        "using StatsPlots # some additional statistical plotting tools\n",
        "using Optim # optimization tools"
      ],
      "id": "4"
    },
    {
      "cell_type": "markdown",
      "metadata": {},
      "source": [
        "## Problems\n",
        "\n",
        "### Scoring\n",
        "\n",
        "-   Problem 1 is worth 7 points.\n",
        "-   Problem 2 is worth 6 points.\n",
        "-   Problem 3 is worth 7 points.\n",
        "-   Problem 4 is worth 5 points.\n",
        "\n",
        "### Problem 1"
      ],
      "id": "33ae4837-2ff9-4cf0-821a-60886650051d"
    },
    {
      "cell_type": "markdown",
      "metadata": {},
      "source": [
        "Consider the following sea-level rise model from [Grinsted et al\n",
        "(2010)](https://doi.org/10.1007/s00382-008-0507-2), which models\n",
        "sea-level rise based on a linear relationship between global mean\n",
        "temperature and an “equilibrium” sea level:\n",
        "\n",
        "$$\\begin{aligned}\n",
        "\\frac{dS}{dt} &= \\frac{S_\\text{eq} - S}{\\tau} \\\\\n",
        "S_\\text{eq} &= aT + b,\n",
        "\\end{aligned}\n",
        "$$\n",
        "\n",
        "where\n",
        "\n",
        "-   $S(t)$ is the global mean sea level (in mm) at time $t$;\n",
        "-   $\\tau$ is the response time of sea level (in yrs);\n",
        "-   $S_\\text{eq}$ is the equilibrium sea-level (in mm) at temperature\n",
        "    $T$ (in $^\\circ$C);\n",
        "-   $a$ is the sensitivity of $S_\\text{eq}$ to $T$ (in mm/$^\\circ$C);\n",
        "-   $b$ is the intercept of $S_\\text{eq}$, or the $S_\\text{eq}$ when\n",
        "    $T=0^\\circ$C (in mm).\n",
        "\n",
        "**In this problem**:\n",
        "\n",
        "-   Load the data from the `data/` folder and, following Grinsted et al\n",
        "    (2010), normalize both datasets to the 1980-1999 mean (subtract that\n",
        "    mean from the data).\n",
        "    -   Global mean temperature data from the HadCRUT 5.0.2.0 dataset\n",
        "        (<https://hadobs.metoffice.gov.uk/hadcrut5/data/HadCRUT.5.0.2.0/download.html>)\n",
        "        can be found in\n",
        "        `data/HadCRUT.5.0.2.0.analysis.summary_series.global.annual.csv`.\n",
        "        This data is averaged over the Northern and Southern Hemispheres\n",
        "        and over the whole year.\n",
        "    -   Global mean sea level anomalies (relative to the 1990 mean\n",
        "        global sea level) are in `data/CSIRO_Recons_gmsl_yr_2015.csv`,\n",
        "        courtesy of CSIRO\n",
        "        (<https://www.cmar.csiro.au/sealevel/sl_data_cmar.html>). The\n",
        "        standard deviation of the estimate is also added for each year.\n",
        "-   Write a function to simulate global mean sea levels under a set of\n",
        "    model parameters after discretizing the equations above with a\n",
        "    timestep of $\\delta t = 1$ yr. You will need to subset the\n",
        "    temperature data to the years where you also have sea-level data.\n",
        "-   Fit the model under the assumption of Gaussian i.i.d. residuals by\n",
        "    maximizing the likelihood and report the parameter estimates. Note\n",
        "    that you will need another parameter $S_0$ for the initial sea\n",
        "    level. What can you conclude about the relationship between global\n",
        "    mean temperature increases and global mean sea level rise rates?\n",
        "-   How appropriate was the Gaussian i.i.d. probability model for the\n",
        "    residuals? Use any needed quantitative or qualitative assessments of\n",
        "    goodness of fit to justify your answer. If this was not an\n",
        "    appropriate probability model, what would you change?"
      ],
      "id": "e653d034-aa70-43d4-aafc-891cd8651d92"
    },
    {
      "cell_type": "markdown",
      "metadata": {},
      "source": [
        "### Problem 2"
      ],
      "id": "cdb53c4e-64d1-4075-9bd6-8cd6e2da0560"
    },
    {
      "cell_type": "markdown",
      "metadata": {},
      "source": [
        "Tide gauge data is complicated to analyze because it is influenced by\n",
        "different harmonic processes (such as the linear cycle). In this\n",
        "problem, we will develop a model for this data using [NOAA data from the\n",
        "Sewell’s Point tide\n",
        "gauge](https://tidesandcurrents.noaa.gov/waterlevels.html?id=8638610)\n",
        "outside of Norfolk, VA from `data/norfolk-hourly-surge-2015.csv`. This\n",
        "is hourly data (in m) from 2015 and includes both the observed data\n",
        "(`Verified (m)`) and the tide level predicted by NOAA’s sinusoidal model\n",
        "for periodic variability, such as tides and other seasonal cycles\n",
        "(`Predicted (m)`).\n",
        "\n",
        "**In this problem**:\n",
        "\n",
        "-   Load the data file. Take the difference between the observations and\n",
        "    the sinusoidal predictions to obtain the tide level which could be\n",
        "    attributed to weather-related variability (since for one year\n",
        "    sea-level rise and other factors are unlikely to matter). Plot this\n",
        "    data.\n",
        "-   Develop an autoregressive (AR) model for the weather-related\n",
        "    variability in the Norfolk tide gauge. Make sure to include your\n",
        "    logic or exploratory analysis used in determining the model\n",
        "    specification.\n",
        "-   Use your model to simulate 1,000 realizations of hourly tide gauge\n",
        "    observations by adding simulations from your AR model back to the\n",
        "    predicted sinusoidal trend. What is the distribution of the maximum\n",
        "    tide level? How does this compare to the observed value?"
      ],
      "id": "61d4cb14-919c-4f63-a832-daff1efc7086"
    },
    {
      "cell_type": "markdown",
      "metadata": {},
      "source": [
        "## Problem 3"
      ],
      "id": "89bb9722-5666-4aba-ae89-0e330e78320a"
    },
    {
      "cell_type": "markdown",
      "metadata": {},
      "source": [
        "The file `data/salamanders.csv` contains counts of salamanders from 47\n",
        "different plots of the same area in California, as well as the\n",
        "percentage of ground cover and age of the forest in the plot. You would\n",
        "like to see if you can use these data to predict the salamander counts\n",
        "with a Poisson regression.\n",
        "\n",
        "**In this problem**:\n",
        "\n",
        "-   Load the data. You may need to standardize the predictors as they\n",
        "    are much larger than the counts.\n",
        "-   Fit a Poisson regression model for salamander counts using the\n",
        "    percentage of ground cover.\n",
        "-   Plot the expected counts and 90% prediction intervals from your\n",
        "    model. How well does the model predict the observed counts? In what\n",
        "    ways does it do a good or bad job?\n",
        "-   Can you improve the model by including forest age? Why do you think\n",
        "    this helps or does not help with prediction?"
      ],
      "id": "14c20c6a-442a-418b-9141-7c26866af818"
    },
    {
      "cell_type": "markdown",
      "metadata": {},
      "source": [
        "### Problem 4"
      ],
      "id": "757e4c57-2caa-4747-a833-4cd02b95447d"
    },
    {
      "cell_type": "markdown",
      "metadata": {},
      "source": [
        "<span style=\"color:red;\">GRADED FOR 5850 STUDENTS ONLY</span>\n",
        "\n",
        "In 2014, [a paper was published in a prestigious\n",
        "journal](https://www.pnas.org/doi/10.1073/pnas.1402786111) which claimed\n",
        "that hurricanes with more feminine names are deadlier than hurricanes\n",
        "with more masculine names because people take warnings about\n",
        "female-named hurricanes less seriously[1]. The file\n",
        "`data/Hurricanes.csv` contains the original data used in this analysis.\n",
        "While we won’t replicate the specific analysis in this paper, let’s use\n",
        "the data to look at this hypothesis.\n",
        "\n",
        "**In this problem**:\n",
        "\n",
        "-   One might interpret the hypothesis to claim that the impact of the\n",
        "    name is strengthened by the the more powerful. A measure of\n",
        "    hurricane strength is its minimum pressure (`min_pressure` in the\n",
        "    dataset). Fit a model that predicts deaths (‘deaths’) using the\n",
        "    femininity of the name (`femininity`) and minimum pressure (you may\n",
        "    need to standardize the pressure).\n",
        "-   Interpret the results by generating counterfactual simulations for\n",
        "    hurricanes with the most feminine and masculine name scores. Plot\n",
        "    the expected values and 90% prediction intervals from these two sets\n",
        "    of simulations and compare with the observed storm deaths. Where\n",
        "    does the model do well or not well? Does the effect size of the\n",
        "    gender of the name seem plausible?\n",
        "-   Conclude with a summary of your conclusions about the impact of the\n",
        "    gender of a hurricane’s name on deaths. How might you change the\n",
        "    approach in this problem to keep exploring this hypothesis, if at\n",
        "    all?\n",
        "\n",
        "[1] This paper has become a bit of a joke among statisticians, but let’s\n",
        "take the hypothesis seriously for this problem’s sake."
      ],
      "id": "3bda35f3-d214-4278-947c-077e56b8aecf"
    },
    {
      "cell_type": "markdown",
      "metadata": {},
      "source": [
        "## References"
      ],
      "id": "a4e12b20-ecf0-4222-b7f3-b72e1430c26b"
    }
  ],
  "nbformat": 4,
  "nbformat_minor": 5,
  "metadata": {
    "kernel_info": {
      "name": "julia"
    },
    "kernelspec": {
      "name": "julia",
      "display_name": "Julia",
      "language": "julia"
    },
    "language_info": {
      "name": "julia",
      "codemirror_mode": "julia",
      "version": "1.11.2"
    }
  }
}