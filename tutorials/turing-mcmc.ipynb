{
  "cells": [
    {
      "cell_type": "markdown",
      "metadata": {},
      "source": [
        "# Markov Chain Monte Carlo With Turing\n",
        "\n",
        "## Overview\n",
        "\n",
        "This tutorial will give some examples of using `Turing.jl` and Markov\n",
        "Chain Monte Carlo to sample from posterior distributions.\n",
        "\n",
        "## Setup"
      ],
      "id": "f6541156-3737-4b57-8af8-18fbc52eb604"
    },
    {
      "cell_type": "code",
      "execution_count": 1,
      "metadata": {},
      "outputs": [],
      "source": [
        "using Turing\n",
        "using Distributions\n",
        "using Plots\n",
        "default(fmt = :png) # the tide gauge data is long, this keeps images a manageable size\n",
        "using LaTeXStrings\n",
        "using StatsPlots\n",
        "using Measures\n",
        "using StatsBase\n",
        "using Optim\n",
        "using Random\n",
        "using DataFrames\n",
        "using DataFramesMeta\n",
        "using Dates\n",
        "using CSV"
      ],
      "id": "4"
    },
    {
      "cell_type": "markdown",
      "metadata": {},
      "source": [
        "As this tutorial involves random number generation, we will set a random\n",
        "seed to ensure reproducibility."
      ],
      "id": "5fe6a95c-d752-4b03-962e-68419f7eba57"
    },
    {
      "cell_type": "code",
      "execution_count": 1,
      "metadata": {},
      "outputs": [],
      "source": [
        "\n",
        "Random.seed!(1);"
      ],
      "id": "6"
    },
    {
      "cell_type": "markdown",
      "metadata": {},
      "source": [
        "## Fitting A Linear Regression Model\n",
        "\n",
        "Let’s start with a simple example: fitting a linear regression model to\n",
        "simulated data.\n",
        "\n",
        "> **Positive Control Tests**\n",
        ">\n",
        "> Simulating data with a known data-generating process and then trying\n",
        "> to obtain the parameters for that process is an important step in any\n",
        "> workflow.\n",
        "\n",
        "### Simulating Data\n",
        "\n",
        "The data-generating process for this example will be: $$\n",
        "\\begin{gather}\n",
        "y = 5 + 2x + \\varepsilon \\\\\n",
        "\\varepsilon \\sim \\text{Normal}(0, 3),\n",
        "\\end{gather}\n",
        "$$ where $\\varepsilon$ is so-called “white noise”, which adds\n",
        "stochasticity to the data set. The generated dataset is shown in\n",
        "<a href=\"#fig-scatter-regression\" class=\"quarto-xref\">Figure 1</a>."
      ],
      "id": "c62d65eb-601b-4e4f-a2c3-985e88a49a4e"
    },
    {
      "cell_type": "code",
      "execution_count": 1,
      "metadata": {},
      "outputs": [],
      "source": [],
      "id": "cell-fig-scatter-regression"
    },
    {
      "cell_type": "markdown",
      "metadata": {},
      "source": [
        "### Model Specification\n",
        "\n",
        "The statistical model for a standard linear regression problem is $$\n",
        "\\begin{gather}\n",
        "y = a + bx + \\varepsilon \\\\\n",
        "\\varepsilon \\sim \\text{Normal}(0, \\sigma).\n",
        "\\end{gather}\n",
        "$$\n",
        "\n",
        "Rearranging, we can rewrite the likelihood function as:\n",
        "$$y \\sim \\text{Normal}(\\mu, \\sigma),$$ where $\\mu = a + bx$. This means\n",
        "that we have three parameters to fit: $a$, $b$, and $\\sigma^2$.\n",
        "\n",
        "Next, we need to select priors on our parameters. We’ll use relatively\n",
        "generic distributions to avoid using the information we have (since we\n",
        "generated the data ourselves), but in practice, we’d want to use any\n",
        "relevant information that we had from our knowledge of the problem.\n",
        "Let’s use relatively diffuse normal distributions for the trend\n",
        "parameters $a$ and $b$ and a half-normal distribution (a normal\n",
        "distribution truncated at 0, to only allow positive values) for the\n",
        "variance $\\sigma^2$, as recommended by Gelman (2006).\n",
        "\n",
        "$$\n",
        "\\begin{gather}\n",
        "a \\sim \\text{Normal(0, 10)} \\\\\n",
        "b \\sim \\text{Normal(0, 10)} \\\\\n",
        "\\sigma \\sim \\text{Half-Normal}(0, 25)\n",
        "\\end{gather}\n",
        "$$\n",
        "\n",
        "### Using Turing\n",
        "\n",
        "#### Coding the Model\n",
        "\n",
        "`Turing.jl` uses the `@model` macro to specify the model function. We’ll\n",
        "follow the setup in the [Turing\n",
        "documentation](https://turinglang.org/dev/tutorials/05-linear-regression).\n",
        "\n",
        "To specify distributions on parameters (and the data, which can be\n",
        "thought of as uncertain parameters in Bayesian statistics), use a tilde\n",
        "`~`, and use equals `=` for transformations (which we don’t have in this\n",
        "case)."
      ],
      "id": "c963f617-d8a9-4998-b7d8-665c3b236a3c"
    },
    {
      "cell_type": "code",
      "execution_count": 1,
      "metadata": {},
      "outputs": [
        {
          "output_type": "display_data",
          "metadata": {},
          "data": {
            "text/plain": [
              "linear_regression (generic function with 2 methods)"
            ]
          }
        }
      ],
      "source": [
        "\n",
        "@model function linear_regression(x, y)\n",
        "    # set priors\n",
        "    σ ~ truncated(Normal(0, 25); lower=0)\n",
        "    a ~ Normal(0, 10)\n",
        "    b ~ Normal(0, 10)\n",
        "\n",
        "    # compute the likelihood\n",
        "    for i = 1:length(y)\n",
        "        # compute the mean value for the data point\n",
        "        μ = a + b * x[i]\n",
        "        y[i] ~ Normal(μ, σ)\n",
        "    end\n",
        "end"
      ],
      "id": "10"
    },
    {
      "cell_type": "markdown",
      "metadata": {},
      "source": [
        "#### Fitting The Model\n",
        "\n",
        "Now we can call the sampler to draw from the posterior. We’ll use the\n",
        "[No-U-Turn\n",
        "sampler](https://en.wikipedia.org/wiki/Hamiltonian_Monte_Carlo#No_U-Turn_Sampler)\n",
        "(Hoffman & Gelman, 2014), which is a Hamiltonian Monte Carlo algorithm\n",
        "(a different category of MCMC sampler than the Metropolis-Hastings\n",
        "algorithm discussed in class). We’ll also use 4 chains so we can test\n",
        "that the chains are well-mixed, and each chain will be run for 5,000\n",
        "iterations[1]\n",
        "\n",
        "[1] Hamiltonian Monte Carlo samplers often need to be run for fewer\n",
        "iterations than Metropolis-Hastings samplers, as the exploratory step\n",
        "uses information about the gradient of the statistical model, versus the\n",
        "random walk of Metropolis-Hastings. The disadvantage is that this\n",
        "gradient information must be available, which is not always the case for\n",
        "external simulation models. Simulation models coded in Julia can usually\n",
        "be automatically differentiated by Turing’s tools, however."
      ],
      "id": "60b7c699-fd67-4df7-ae8e-03cc63e5cf83"
    },
    {
      "cell_type": "code",
      "execution_count": 1,
      "metadata": {},
      "outputs": [
        {
          "output_type": "stream",
          "name": "stdout",
          "text": [
            "┌ Warning: Only a single thread available: MCMC chains are not sampled in parallel\n",
            "└ @ AbstractMCMC ~/.julia/packages/AbstractMCMC/FSyVk/src/sample.jl:382\n",
            "Sampling (1 threads)   0%|                              |  ETA: N/A\n",
            "┌ Info: Found initial step size\n",
            "└   ϵ = 0.000390625\n",
            "┌ Info: Found initial step size\n",
            "└   ϵ = 0.00625\n",
            "Sampling (1 threads)  25%|███████▌                      |  ETA: 0:00:19\n",
            "Sampling (1 threads)  50%|███████████████               |  ETA: 0:00:07\n",
            "┌ Info: Found initial step size\n",
            "└   ϵ = 0.00625\n",
            "┌ Info: Found initial step size\n",
            "└   ϵ = 0.00078125\n",
            "Sampling (1 threads)  75%|██████████████████████▌       |  ETA: 0:00:02\n",
            "Sampling (1 threads) 100%|██████████████████████████████| Time: 0:00:07\n",
            "Sampling (1 threads) 100%|██████████████████████████████| Time: 0:00:07\n",
            "chain = MCMC chain (5000×15×4 Array{Float64, 3})"
          ]
        },
        {
          "output_type": "display_data",
          "metadata": {},
          "data": {
            "text/plain": [
              "Chains MCMC chain (5000×15×4 Array{Float64, 3}):\n",
              "\n",
              "Iterations        = 1001:1:6000\n",
              "Number of chains  = 4\n",
              "Samples per chain = 5000\n",
              "Wall duration     = 5.42 seconds\n",
              "Compute duration  = 4.37 seconds\n",
              "parameters        = σ, a, b\n",
              "internals         = lp, n_steps, is_accept, acceptance_rate, log_density, hamiltonian_energy, hamiltonian_energy_error, max_hamiltonian_energy_error, tree_depth, numerical_error, step_size, nom_step_size\n",
              "\n",
              "Summary Statistics\n",
              "  parameters      mean       std      mcse    ess_bulk    ess_tail      rhat   ⋯\n",
              "      Symbol   Float64   Float64   Float64     Float64     Float64   Float64   ⋯\n",
              "\n",
              "           σ    5.3902    0.9898    0.0099   9855.8457   8815.2286    1.0005   ⋯\n",
              "           a    7.3371    2.1317    0.0234   8370.4804   9733.2030    1.0000   ⋯\n",
              "           b    1.8009    0.1890    0.0021   8457.3768   8995.2289    1.0005   ⋯\n",
              "                                                                1 column omitted\n",
              "\n",
              "Quantiles\n",
              "  parameters      2.5%     25.0%     50.0%     75.0%     97.5%\n",
              "      Symbol   Float64   Float64   Float64   Float64   Float64\n",
              "\n",
              "           σ    3.8610    4.6864    5.2543    5.9434    7.6685\n",
              "           a    3.0909    5.9747    7.3343    8.7084   11.5335\n",
              "           b    1.4245    1.6788    1.8000    1.9233    2.1775"
            ]
          }
        }
      ],
      "source": [
        "# set up the sampler\n",
        "model = linear_regression(x, y)\n",
        "n_chains = 4\n",
        "n_per_chain = 5000\n",
        "chain = sample(model, NUTS(), MCMCThreads(), n_per_chain, n_chains, drop_warmup=true)\n",
        "@show chain"
      ],
      "id": "12"
    },
    {
      "cell_type": "markdown",
      "metadata": {},
      "source": [
        "How can we interpret the output? The first parts of the summary\n",
        "statistics are straightforward: we get the mean, standard deviation, and\n",
        "Monte Carlo standard error (`mcse`) of each parameter. We also get\n",
        "information about the effective sample size (ESS)[1] and $\\hat{R}$,\n",
        "which measures the ratio of within-chain variance and across-chain\n",
        "variance as a check for convergence[2].\n",
        "\n",
        "In this case, we can see that we were generally able to recover the\n",
        "“true” data-generating values of $\\sigma = 4$ and $b = 2$, but $a$ is\n",
        "slightly off (the mean is 3, rather than the data-generating value of\n",
        "5). In fact, there is substantial uncertainty about $a$, with a 95%\n",
        "credible interval of $(3.1, 11.4)$ (compared to $(1.4, 2.2)$ for $b$).\n",
        "This isn’t surprising: given the variance of the noise $\\sigma^2$, there\n",
        "are many different intercepts which could fit within that spread.\n",
        "\n",
        "Let’s now plot the chains for visual inspection.\n",
        "\n",
        "[1] The ESS reflects the efficiency of the sampler: this is an estimate\n",
        "of the equivalent number of independent samples; the more correlated the\n",
        "samples, the lower the ESS.\n",
        "\n",
        "[2] The closer $\\hat{R}$ is to 1, the better."
      ],
      "id": "3fafa9bf-fb6f-492a-90b0-8cfcb9fda404"
    },
    {
      "cell_type": "code",
      "execution_count": 1,
      "metadata": {},
      "outputs": [],
      "source": [
        "plot(chain)"
      ],
      "id": "cell-fig-chains-regression"
    },
    {
      "cell_type": "markdown",
      "metadata": {},
      "source": [
        "We can see from\n",
        "<a href=\"#fig-chains-regression\" class=\"quarto-xref\">Figure 2</a> that\n",
        "our chains mixed well and seem to have converged to similar\n",
        "distributions! The traceplots have a “hairy caterpiller” appearance,\n",
        "suggesting relatively little autocorrelation. We can also see how much\n",
        "more uncertainty there is with the intercept $a$, while the slope $b$ is\n",
        "much more constrained.\n",
        "\n",
        "Another interesting comparison we can make is with the\n",
        "maximum-likelihood estimate (MLE), which we can obtain through\n",
        "optimization."
      ],
      "id": "2798415f-5b52-4606-8a36-ce3eb8c3afc9"
    },
    {
      "cell_type": "code",
      "execution_count": 1,
      "metadata": {},
      "outputs": [],
      "source": [
        "mle_model = linear_regression(x, y)\n",
        "mle = optimize(mle_model, MLE())\n",
        "coef(mle)"
      ],
      "id": "16"
    },
    {
      "cell_type": "markdown",
      "metadata": {},
      "source": [
        "We could also get the maximum *a posteriori* (MAP) estimate, which\n",
        "includes the prior density, by replacing `MLE()` with `MAP()`.\n",
        "\n",
        "### Model Diagnostics and Posterior Predictive Checks\n",
        "\n",
        "One advantage of the Bayesian modeling approach here is that we have\n",
        "access to a *generative model*, or a model which we can use to generate\n",
        "datasets. This means that we can now use Monte Carlo simulation,\n",
        "sampling from our posteriors, to look at how uncertainty in the\n",
        "parameter estimates propagates through the model. Let’s write a function\n",
        "which gets samples from the MCMC chains and generates datasets."
      ],
      "id": "3324ca1f-28b1-487a-917f-fa15406b482f"
    },
    {
      "cell_type": "code",
      "execution_count": 1,
      "metadata": {},
      "outputs": [
        {
          "output_type": "display_data",
          "metadata": {},
          "data": {
            "text/plain": [
              "mc_predict_regression (generic function with 1 method)"
            ]
          }
        }
      ],
      "source": [
        "function mc_predict_regression(x, chain)\n",
        "    # get the posterior samples\n",
        "    a = Array(group(chain, :a))\n",
        "    b = Array(group(chain, :b))\n",
        "    σ = Array(group(chain, :σ))\n",
        "\n",
        "    # loop and generate alternative realizations\n",
        "    μ = a' .+ x * b'\n",
        "    y = zeros((length(x), length(a)))\n",
        "    for i = 1:length(a)\n",
        "        y[:, i] = rand.(Normal.(μ[:, i], σ[i]))\n",
        "    end\n",
        "    return y\n",
        "end"
      ],
      "id": "18"
    },
    {
      "cell_type": "markdown",
      "metadata": {},
      "source": [
        "Now we can generate a predictive interval and median and compare to the\n",
        "data."
      ],
      "id": "9055fa91-cf85-46a3-a4ea-284940da0da9"
    },
    {
      "cell_type": "code",
      "execution_count": 1,
      "metadata": {},
      "outputs": [
        {
          "output_type": "display_data",
          "metadata": {},
          "data": {
            "text/plain": [
              "21×20000 Matrix{Float64}:\n",
              "  6.18927   12.3379    4.98645   5.63459  …  10.9633   3.19493  10.5629\n",
              " -0.787015   6.6741   -2.28729   3.14667     10.6714   8.40605  12.4204\n",
              " 21.7493    10.0263    3.45883  17.3582      22.2524   1.03665   1.81646\n",
              "  7.90481    9.57855  10.1326   10.8868      18.0769  13.676     8.947\n",
              " 26.5098    11.2544   10.9247   22.435       15.7537  16.4602   22.7052\n",
              " 14.4187    13.8732   21.3358   30.8937   …  13.3117  20.278    20.5201\n",
              " 26.2284    27.4317   13.3137   13.786       11.1487  10.4235   20.1579\n",
              " 15.416     11.8195   17.5381   17.929       13.9262  16.4875   29.2849\n",
              " 19.3947    21.5055   20.7223   20.1945      17.2965  14.7713   26.3376\n",
              " 19.8367    17.0343   29.25     24.0764      15.5286  19.8473   20.0505\n",
              "  ⋮                                       ⋱                     \n",
              " 35.6006    34.0885   36.4663   30.5174      23.1636  26.533    32.0077\n",
              " 28.5885    31.6015   29.9466   31.013       38.9658  34.8197   25.7493\n",
              " 43.1781    24.0314   27.1011   35.3821      29.459   23.7705   45.1138\n",
              " 29.0642    39.1165   36.4157   33.0272   …  31.3107  29.0842   41.2912\n",
              " 37.0889    33.7538   29.5773   35.0506      35.4628  38.7593   47.0107\n",
              " 39.9978    28.2572   37.5806   42.7755      17.9901  35.5712   38.3631\n",
              " 36.8963    44.9664   40.8518   41.8411      25.5928  38.3663   42.9063\n",
              " 35.6465    40.8019   42.4396   47.1658      39.5858  38.5876   40.4445\n",
              " 51.6495    39.1676   43.2786   27.6229   …  32.7107  43.2689   38.0924"
            ]
          }
        }
      ],
      "source": [
        "x_pred = 0:20\n",
        "y_pred = mc_predict_regression(x_pred, chain)"
      ],
      "id": "20"
    },
    {
      "cell_type": "markdown",
      "metadata": {},
      "source": [
        "Notice the dimension of `y_pred`: we have 20,000 columns, because we\n",
        "have 4 chains with 5,000 samples each. If we had wanted to subsample\n",
        "(which might be necessary if we had hundreds of thousands or millions of\n",
        "samples), we could have done that within `mc_linear_regression` before\n",
        "simulation."
      ],
      "id": "0fde7eef-2a80-48b8-9048-1487f3558d59"
    },
    {
      "cell_type": "code",
      "execution_count": 1,
      "metadata": {},
      "outputs": [],
      "source": [
        "# get the boundaries for the 95% prediction interval and the median\n",
        "y_ci_low = quantile.(eachrow(y_pred), 0.025)\n",
        "y_ci_hi = quantile.(eachrow(y_pred), 0.975)\n",
        "y_med = quantile.(eachrow(y_pred), 0.5)"
      ],
      "id": "22"
    },
    {
      "cell_type": "markdown",
      "metadata": {},
      "source": [
        "Now, let’s plot the prediction interval and median, and compare to the\n",
        "original data."
      ],
      "id": "80faf085-a62c-4d45-986d-468e544e8979"
    },
    {
      "cell_type": "code",
      "execution_count": 1,
      "metadata": {},
      "outputs": [],
      "source": [
        "# plot prediction interval\n",
        "plot(x_pred, y_ci_low, fillrange=y_ci_hi, xlabel=L\"$x$\", ylabel=L\"$y$\", fillalpha=0.3, fillcolor=:blue, label=\"95% Prediction Interval\", legend=:topleft, linealpha=0)\n",
        "plot!(x_pred, y_med, color=:blue, label=\"Prediction Median\")\n",
        "scatter!(x, y, color=:red, label=\"Data\")"
      ],
      "id": "cell-fig-prediction-regression"
    },
    {
      "cell_type": "markdown",
      "metadata": {},
      "source": [
        "From\n",
        "<a href=\"#fig-prediction-regression\" class=\"quarto-xref\">Figure 3</a>,\n",
        "it looks like our model might be slightly under-confident, as with 20\n",
        "data points, we would expect 5% of them (or 1 data point) to be outside\n",
        "the 95% prediction interval. It’s hard to tell with only 20 data points,\n",
        "though! We could resolve this by tightening our priors, but this depends\n",
        "on how much information we used to specify them in the first place. The\n",
        "goal shouldn’t be to hit a specific level of uncertainty, but if there\n",
        "is a sound reason to tighten the priors, we could do so.\n",
        "\n",
        "Now let’s look at the residuals from the posterior median and the data.\n",
        "The partial autocorrelations plotted in\n",
        "<a href=\"#fig-residuals-regression\" class=\"quarto-xref\">Figure 4</a> are\n",
        "not fully convincing, as there are large autocorrelation coefficients\n",
        "with long lags, but the dataset is quite small, so it’s hard to draw\n",
        "strong conclusions. We won’t go further down this rabbit hole as we know\n",
        "our data-generating process involved independent noise, but for a real\n",
        "dataset, we might want to try a model specification with autocorrelated\n",
        "errors to compare."
      ],
      "id": "e118a21d-8607-4130-8fd9-b7bac462a153"
    },
    {
      "cell_type": "code",
      "execution_count": 1,
      "metadata": {},
      "outputs": [],
      "source": [
        "# calculate the median predictions and residuals\n",
        "y_pred_data = mc_predict_regression(x, chain)\n",
        "y_med_data = quantile.(eachrow(y_pred_data), 0.5)\n",
        "residuals = y_med_data .- y\n",
        "\n",
        "# plot the residuals and a line to show the zero\n",
        "plot(pacf(residuals, 1:4), line=:stem, marker=:circle, legend=:false, grid=:false, linewidth=2, xlabel=\"Lag\", ylabel=\"Partial Autocorrelation\", markersize=8, tickfontsize=14, guidefontsize=16, legendfontsize=16)\n",
        "hline!([0], linestyle=:dot, color=:red)"
      ],
      "id": "cell-fig-residuals-regression"
    },
    {
      "cell_type": "markdown",
      "metadata": {},
      "source": [
        "## Fitting Extreme Value Models to Tide Gauge Data\n",
        "\n",
        "Let’s now look at an example of fitting an extreme value distribution\n",
        "(namely, a [generalized extreme value\n",
        "distribution](https://en.wikipedia.org/wiki/Generalized_extreme_value_distribution),\n",
        "or GEV) to tide gauge data. GEV distributions have three parameters:\n",
        "\n",
        "-   $\\mu$, the *location* parameter, which reflects the positioning of\n",
        "    the bulk of the GEV distribution;\n",
        "-   $\\sigma$, the *scale* parameter, which reflects the width of the\n",
        "    bulk;\n",
        "-   $\\xi$, the *shape* parameter, which reflects the thickness and\n",
        "    boundedness of the tail.\n",
        "\n",
        "The shape parameter $\\xi$ is often of interest, as there are three\n",
        "classes of GEV distributions corresponding to different signs:\n",
        "\n",
        "-   $\\xi < 0$ means that the distribution is bounded;\n",
        "-   $\\xi = 0$ means that the distribution has a thinner tail, so the\n",
        "    “extreme extremes” are less likely;\n",
        "-   $\\xi > 0$ means that the distribution has a thicker tail.\n",
        "\n",
        "### Load Data\n",
        "\n",
        "First, let’s load the data. We’ll use [data from the University of\n",
        "Hawaii Sea Level Center](https://uhslc.soest.hawaii.edu/datainfo/)\n",
        "(Caldwell et al., 2015) for San Francisco, from 1897-2013. If you don’t\n",
        "have this data and are working with the notebook, download it\n",
        "[here](https://uhslc.soest.hawaii.edu/data/csv/rqds/hourly/h551a.csv).\n",
        "We’ll assume it’s in a `data/` subdirectory, but change the path as\n",
        "needed.\n",
        "\n",
        "The dataset consists of dates and hours and the tide-gauge measurement,\n",
        "in mm. We’ll load the dataset into a `DataFrame`."
      ],
      "id": "c36a204e-fec2-4aa4-bfac-387ca494418d"
    },
    {
      "cell_type": "code",
      "execution_count": 1,
      "metadata": {},
      "outputs": [
        {
          "output_type": "display_data",
          "metadata": {},
          "data": {
            "text/plain": [
              "load_data (generic function with 1 method)"
            ]
          }
        }
      ],
      "source": [
        "function load_data(fname)\n",
        "    date_format = DateFormat(\"yyyy-mm-dd HH:MM:SS\")\n",
        "    df = @chain fname begin\n",
        "        CSV.File(; delim=',', header=false)\n",
        "        DataFrame\n",
        "        rename(\"Column1\" => \"year\",\n",
        "                \"Column2\" => \"month\",\n",
        "                \"Column3\" => \"day\",\n",
        "                \"Column4\" => \"hour\",\n",
        "                \"Column5\" => \"gauge\")\n",
        "        # need to reformat the decimal date in the data file\n",
        "        @transform :datetime = DateTime.(:year, :month, :day, :hour)\n",
        "        # replace -99999 with missing\n",
        "        @transform :gauge = ifelse.(abs.(:gauge) .>= 9999, missing, :gauge)\n",
        "        select(:datetime, :gauge)\n",
        "    end\n",
        "    return df\n",
        "end"
      ],
      "id": "28"
    },
    {
      "cell_type": "code",
      "execution_count": 1,
      "metadata": {},
      "outputs": [],
      "source": [
        "dat = load_data(\"data/h551a.csv\")\n",
        "first(dat, 6)"
      ],
      "id": "3cd96f75-c237-4f85-baef-508ee73738b0"
    },
    {
      "cell_type": "code",
      "execution_count": 1,
      "metadata": {},
      "outputs": [],
      "source": [
        "@df dat plot(:datetime, :gauge, label=\"Observations\", bottom_margin=9mm)\n",
        "xaxis!(\"Date\", xrot=30)\n",
        "yaxis!(\"Mean Water Level\")"
      ],
      "id": "cell-fig-raw-data"
    },
    {
      "cell_type": "markdown",
      "metadata": {},
      "source": [
        "Next, we need to detrend the data to remove the impacts of sea-level\n",
        "rise. We do this by removing a one-year moving average, centered on the\n",
        "data point, per the recommendation of Arns et al. (2013)."
      ],
      "id": "ebcf9677-57f2-4092-8e5c-32286827defb"
    },
    {
      "cell_type": "code",
      "execution_count": 1,
      "metadata": {},
      "outputs": [],
      "source": [
        "# calculate the moving average and subtract it off\n",
        "ma_length = 366\n",
        "ma_offset = Int(floor(ma_length/2))\n",
        "moving_average(series,n) = [mean(@view series[i-n:i+n]) for i in n+1:length(series)-n]\n",
        "dat_ma = DataFrame(datetime=dat.datetime[ma_offset+1:end-ma_offset], residual=dat.gauge[ma_offset+1:end-ma_offset] .- moving_average(dat.gauge, ma_offset))\n",
        "\n",
        "# plot\n",
        "@df dat_ma plot(:datetime, :residual, label=\"Detrended Observations\", bottom_margin=9mm)\n",
        "xaxis!(\"Date\", xrot=30)\n",
        "yaxis!(\"Mean Water Level\")"
      ],
      "id": "cell-fig-data-detrend"
    },
    {
      "cell_type": "markdown",
      "metadata": {},
      "source": [
        "The last step in preparing the data is to find the annual maxima. We can\n",
        "do this using the `groupby`, `transform`, and `combine` functions from\n",
        "`DataFrames.jl`, as below."
      ],
      "id": "3ed9cf34-1582-4642-927a-4c3d9ae92871"
    },
    {
      "cell_type": "code",
      "execution_count": 1,
      "metadata": {},
      "outputs": [],
      "source": [
        "# calculate the annual maxima\n",
        "dat_ma = dropmissing(dat_ma)\n",
        "dat_annmax = combine(dat_ma -> dat_ma[argmax(dat_ma.residual), :],\n",
        "                groupby(DataFrames.transform(dat_ma, :datetime => x->year.(x)), :datetime_function))\n",
        "delete!(dat_annmax, nrow(dat_annmax))\n",
        "\n",
        "# make a histogram of the maxima to see the distribution\n",
        "histogram(dat_annmax.residual, label=false)\n",
        "ylabel!(\"Count\")\n",
        "xlabel!(\"Mean Water Level (mm)\")"
      ],
      "id": "cell-fig-annmax-histogram"
    },
    {
      "cell_type": "markdown",
      "metadata": {},
      "source": [
        "### Fit The Model"
      ],
      "id": "84b8f2ea-8c90-48ed-8b16-d3cfbd099d77"
    },
    {
      "cell_type": "code",
      "execution_count": 1,
      "metadata": {},
      "outputs": [
        {
          "output_type": "stream",
          "name": "stdout",
          "text": [
            "┌ Warning: Only a single thread available: MCMC chains are not sampled in parallel\n",
            "└ @ AbstractMCMC ~/.julia/packages/AbstractMCMC/FSyVk/src/sample.jl:382\n",
            "Sampling (1 threads)   0%|                              |  ETA: N/A\n",
            "┌ Info: Found initial step size\n",
            "└   ϵ = 0.00078125\n",
            "┌ Info: Found initial step size\n",
            "└   ϵ = 0.025\n",
            "Sampling (1 threads)  25%|███████▌                      |  ETA: 0:00:10\n",
            "Sampling (1 threads)  50%|███████████████               |  ETA: 0:00:04\n",
            "┌ Info: Found initial step size\n",
            "└   ϵ = 0.05\n",
            "┌ Info: Found initial step size\n",
            "└   ϵ = 0.003125\n",
            "Sampling (1 threads)  75%|██████████████████████▌       |  ETA: 0:00:01\n",
            "Sampling (1 threads) 100%|██████████████████████████████| Time: 0:00:04\n",
            "Sampling (1 threads) 100%|██████████████████████████████| Time: 0:00:04\n",
            "gev_chain = MCMC chain (5000×15×4 Array{Float64, 3})"
          ]
        },
        {
          "output_type": "display_data",
          "metadata": {},
          "data": {
            "text/plain": [
              "Chains MCMC chain (5000×15×4 Array{Float64, 3}):\n",
              "\n",
              "Iterations        = 1001:1:6000\n",
              "Number of chains  = 4\n",
              "Samples per chain = 5000\n",
              "Wall duration     = 4.18 seconds\n",
              "Compute duration  = 3.78 seconds\n",
              "parameters        = μ, σ, ξ\n",
              "internals         = lp, n_steps, is_accept, acceptance_rate, log_density, hamiltonian_energy, hamiltonian_energy_error, max_hamiltonian_energy_error, tree_depth, numerical_error, step_size, nom_step_size\n",
              "\n",
              "Summary Statistics\n",
              "  parameters        mean       std      mcse     ess_bulk     ess_tail      rh ⋯\n",
              "      Symbol     Float64   Float64   Float64      Float64      Float64   Float ⋯\n",
              "\n",
              "           μ   1257.8486    5.6432    0.0502   12662.9738   13290.2815    1.00 ⋯\n",
              "           σ     57.2062    4.1866    0.0364   13221.1627   14062.9979    1.00 ⋯\n",
              "           ξ      0.0293    0.0622    0.0006   12704.5949   12517.6299    1.00 ⋯\n",
              "                                                               2 columns omitted\n",
              "\n",
              "Quantiles\n",
              "  parameters        2.5%       25.0%       50.0%       75.0%       97.5%\n",
              "      Symbol     Float64     Float64     Float64     Float64     Float64\n",
              "\n",
              "           μ   1247.0096   1254.0090   1257.7891   1261.5960   1269.0458\n",
              "           σ     49.6931     54.2386     57.0197     59.9566     66.0397\n",
              "           ξ     -0.0803     -0.0148      0.0257      0.0690      0.1608"
            ]
          }
        }
      ],
      "source": [
        "@model function gev_annmax(y)               \n",
        "    μ ~ Normal(1000, 100)\n",
        "    σ ~ truncated(Normal(0, 100); lower=0)\n",
        "    ξ ~ Normal(0, 0.5)\n",
        "\n",
        "    y ~ GeneralizedExtremeValue(μ, σ, ξ)\n",
        "end\n",
        "\n",
        "gev_model = gev_annmax(dat_annmax.residual)\n",
        "n_chains = 4\n",
        "n_per_chain = 5000\n",
        "gev_chain = sample(gev_model, NUTS(), MCMCThreads(), n_per_chain, n_chains; drop_warmup=true)\n",
        "@show gev_chain"
      ],
      "id": "38"
    },
    {
      "cell_type": "code",
      "execution_count": 1,
      "metadata": {},
      "outputs": [],
      "source": [
        "plot(gev_chain)"
      ],
      "id": "cell-fig-gev-traceplot"
    },
    {
      "cell_type": "markdown",
      "metadata": {},
      "source": [
        "From <a href=\"#fig-gev-traceplot\" class=\"quarto-xref\">Figure 8</a>, it\n",
        "looks like all of the chains have converged to the same distribution;\n",
        "the Gelman-Rubin diagnostic is also close to 1 for all parameters. Next,\n",
        "we can look at a corner plot to see how the parameters are correlated."
      ],
      "id": "e1b3e47a-2933-4997-8ce7-2944e07b4622"
    },
    {
      "cell_type": "code",
      "execution_count": 1,
      "metadata": {},
      "outputs": [],
      "source": [
        "corner(gev_chain)"
      ],
      "id": "cell-fig-gev-corner"
    },
    {
      "cell_type": "markdown",
      "metadata": {},
      "source": [
        "<a href=\"#fig-gev-corner\" class=\"quarto-xref\">Figure 9</a> suggests that\n",
        "the location and scale parameters $\\mu$ and $\\sigma$ are positively\n",
        "correlated. This makes some intuitive sense, as increasing the location\n",
        "parameter shifts the bulk of the distribution in a positive direction,\n",
        "and the increasing scale parameter then increases the likelihood of\n",
        "lower values. However, if these parameters are increased, the shape\n",
        "parameter $\\xi$ decreases, as the tail of the GEV does not need to be as\n",
        "thick due to the increased proximity of outliers to the bulk.\n",
        "\n",
        "Arns, A., Wahl, T., Haigh, I. D., Jensen, J., & Pattiaratchi, C. (2013).\n",
        "<span class=\"nocase\">Estimating extreme water level probabilities: A\n",
        "comparison of the direct methods and recommendations for best\n",
        "practise</span>. *Coast. Eng.*, *81*, 51–66.\n",
        "<https://doi.org/10.1016/j.coastaleng.2013.07.003>\n",
        "\n",
        "Caldwell, P. C., Merrifield, M. A., & Thompson, P. R. (2015). Sea level\n",
        "measured by tide gauges from global oceans — the joint archive for sea\n",
        "level holdings (NCEI accession 0019568). NOAA National Centers for\n",
        "Environmental Information (NCEI). <https://doi.org/10.7289/V5V40S7W>\n",
        "\n",
        "Gelman, A. (2006). Prior distributions for variance parameters in\n",
        "hierarchical models (comment on article by Browne and Draper). *Bayesian\n",
        "Anal.*, *1*(3), 515–533. <https://doi.org/10.1214/06-BA117A>\n",
        "\n",
        "Hoffman, M. D., & Gelman, A. (2014). The No-U-Turn sampler: Adaptively\n",
        "setting path lengths in Hamiltonian Monte Carlo. *J. Mach. Learn. Res.*,\n",
        "*15*(47), 1593–1623."
      ],
      "id": "0c37cd3d-d1f9-447a-aec7-a2fa3a84b9f0"
    }
  ],
  "nbformat": 4,
  "nbformat_minor": 5,
  "metadata": {
    "kernel_info": {
      "name": "julia"
    },
    "kernelspec": {
      "name": "julia",
      "display_name": "Julia",
      "language": "julia"
    },
    "language_info": {
      "name": "julia",
      "codemirror_mode": "julia",
      "version": "1.11.2"
    }
  }
}